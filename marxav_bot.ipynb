{
 "cells": [
  {
   "cell_type": "code",
   "execution_count": 1,
   "metadata": {},
   "outputs": [],
   "source": [
    "import pywikibot\n",
    "import time\n",
    "import re"
   ]
  },
  {
   "cell_type": "code",
   "execution_count": 2,
   "metadata": {},
   "outputs": [
    {
     "name": "stdout",
     "output_type": "stream",
     "text": [
      "wiktionary:fr\n"
     ]
    }
   ],
   "source": [
    "site = pywikibot.Site('fr', 'wiktionary')\n",
    "print(site)"
   ]
  },
  {
   "cell_type": "code",
   "execution_count": 3,
   "metadata": {},
   "outputs": [],
   "source": [
    "# This parameter represents the character or set of consecutive characters \n",
    "# to be replaced\n",
    "old_symbol = 'õ' # regular 'g' letter \n",
    "\n",
    "# This parameter represents the character or set of consecutive characters \n",
    "# that will replace the old_symbol\n",
    "new_symbol = 'ɔ̃'"
   ]
  },
  {
   "cell_type": "code",
   "execution_count": 4,
   "metadata": {},
   "outputs": [],
   "source": [
    "words = [\n",
    "    'Aumont',\n",
    "    'Avignon-lès-Saint-Claude',\n",
    "    'Caf’-Con’',\n",
    "    'Léontine',\n",
    "    'Léontines',\n",
    "    'Montagnac',\n",
    "    'Montmarlon',\n",
    "    'Valparaiso',\n",
    "    'autocontradiction',\n",
    "    'autocontradictions',\n",
    "    'besson',\n",
    "    'casquette à pont',\n",
    "    'casquetttes à pont',\n",
    "    'charcher son pain',\n",
    "    'compte prorata',\n",
    "    'comptes proratas',\n",
    "    'continuo',\n",
    "    'continuos',\n",
    "    'crayon à mine',\n",
    "    'de bon hait',\n",
    "    'dombra',\n",
    "    'dombras',\n",
    "    'fantons',\n",
    "    'maisonne',\n",
    "    'mon Guieu faut-i',\n",
    "    'poiçon',\n",
    "    'poiçons',\n",
    "    'pomon',\n",
    "    'pomons',\n",
    "    'potron-jacquet',\n",
    "    'quatrième dimension',\n",
    "    'rhombicuboctaèdre',\n",
    "    'rodonticide',\n",
    "    'rodonticides',\n",
    "    'rodontologie',\n",
    "    'rodontologies',\n",
    "    'rodontologique',\n",
    "    'rodontologiques',\n",
    "    'ronflote',\n",
    "    'sconses',\n",
    "    'sur l’ongle',\n",
    "    'union libre',\n",
    "    'volontourisme',\n",
    "    'volontourismes',\n",
    "]"
   ]
  },
  {
   "cell_type": "code",
   "execution_count": 5,
   "metadata": {},
   "outputs": [],
   "source": [
    "MODELES_SIMPLES = [\n",
    "    'fr-accord-cons',\n",
    "    'fr-accord-en',\n",
    "    'fr-accord-on',\n",
    "    'fr-accord-rég',\n",
    "    'fr-rég', \n",
    "    'fr-inv', \n",
    "]\n",
    "MODELES_DOUBLES = [\n",
    "    'fr-accord-al',\n",
    "    'fr-accord-eur',\n",
    "    'fr-accord-eux',\n",
    "    'fr-accord-mf',\n",
    "    'fr-accord-mf-al',\n",
    "]\n",
    "MODELES_TROIS = [\n",
    "    'fr-accord-mf',\n",
    "]\n",
    "MODELES_TO_IGNORE = [\n",
    "    'fr-verbe-flexion',\n",
    "]\n",
    "MODELES = MODELES_SIMPLES + MODELES_DOUBLES + MODELES_TROIS"
   ]
  },
  {
   "cell_type": "code",
   "execution_count": 6,
   "metadata": {},
   "outputs": [],
   "source": [
    "ALLOWED_PHONEMES = [\n",
    "        # Voyelles\n",
    "        'i','e','ɛ','a','ɑ','ɔ','o','u','y','ø','œ','ə','ɛ̃','ɑ̃','ɔ̃','œ̃',\n",
    "        # Semi-consonnes\n",
    "        'j','w','ɥ', \n",
    "        # Consonnes\n",
    "        'p','t','k','b','d','ɡ','f','s','ʃ','v','z','ʒ','l','ʁ','m','n','ɲ','h','ŋ',\n",
    "        # Addĩitional ones. They should not be there (most of them are user errors), \n",
    "        # but if not taken into account, they lead to more words being discarded\n",
    "        '(',')','-',' ','ˈ', '.', '\\ ̃',\n",
    "        #'ɡ','ǝ', 'r', 'ã', 'ʏ', 'ẽ', 'õ', \n",
    "        '‿', # pitches\n",
    "]"
   ]
  },
  {
   "cell_type": "code",
   "execution_count": 7,
   "metadata": {},
   "outputs": [],
   "source": [
    "def skip_word(symbol, page, word):\n",
    "    if symbol == 'ẽ':\n",
    "        if 'CA' in page or 'QC' in page:\n",
    "            print('skip_word: symbol %s probably good in %s' % (symbol, word))\n",
    "            return True\n",
    "    return False"
   ]
  },
  {
   "cell_type": "code",
   "execution_count": 8,
   "metadata": {},
   "outputs": [],
   "source": [
    "def check_phonemes(string, verbose=False):\n",
    "    nb_chars = len(string)\n",
    "    \n",
    "    if nb_chars == 0:\n",
    "        return('check_phonemes: received empty string !!!')\n",
    "    \n",
    "    nb_chars_allowed = 0\n",
    "    probably = True\n",
    "    for symbol in string:\n",
    "        if symbol in ALLOWED_PHONEMES:\n",
    "            nb_chars_allowed += 1\n",
    "        else:\n",
    "            if verbose:\n",
    "                print('check_phonemes: in %s, found %c (ascii=%d)' % (string, symbol, ord(symbol)))\n",
    "    pctg = int (nb_chars_allowed/nb_chars*100)\n",
    "    if verbose:\n",
    "        print('check_phonemes(%s) : %d%% of good phonemes' % (string, pctg))\n",
    "    return pctg"
   ]
  },
  {
   "cell_type": "code",
   "execution_count": 9,
   "metadata": {},
   "outputs": [],
   "source": [
    "def replace_pronunciations_in_ligne_de_forme(text, pronunciations, old_symbol, new_symbol, verbose=False):\n",
    "    nb_replacements = 0\n",
    "    for pron in pronunciations:\n",
    "        if verbose:\n",
    "            print('found:', pron)\n",
    "        old_string = pron[0] + pron[1] + pron[2]\n",
    "        pron_new = pron[1].replace(old_symbol, new_symbol)\n",
    "        new_string = pron[0] + pron_new + pron[2]\n",
    "        print('replacing : %s\\nwith      : %s' % (old_string, new_string))    \n",
    "        text = text.replace(old_string, new_string)\n",
    "        if new_string != old_string:\n",
    "            nb_replacements += 1\n",
    "    print('nb_replacements in ldf:%d', nb_replacements)\n",
    "    return text"
   ]
  },
  {
   "cell_type": "code",
   "execution_count": 10,
   "metadata": {},
   "outputs": [],
   "source": [
    "def replace_pronunciations_in_model(text, pronunciations, old_symbol, new_symbol, verbose=False):\n",
    "    nb_replacements = 0\n",
    "    for pron in pronunciations:\n",
    "        if verbose:\n",
    "            print('found:', pron)\n",
    "        old_string = pron[0] + pron[1] + pron[2]\n",
    "        if verbose:\n",
    "            print('old_string:%s ' % old_string)\n",
    "        \n",
    "        # extract modele from string like '{{fr-rég|'\n",
    "        modele = pron[0][2:-1]\n",
    "        if verbose:\n",
    "            print('modele:%s' % modele)\n",
    "        if modele in MODELES_TO_IGNORE:\n",
    "            print('modele with no pronunciation:%s !!!' % modele)\n",
    "            return\n",
    "        elif modele not in MODELES:\n",
    "            print('!!! unknow modele:%s !!!' % modele)\n",
    "            return\n",
    "        \n",
    "        old_pron = pron[1]\n",
    "        new_pron = ''\n",
    "        if verbose:\n",
    "            print('old_pron:%s ' % old_pron)\n",
    "        subfields = old_pron.split('|')\n",
    "        if verbose:\n",
    "            print(subfields)\n",
    "        \n",
    "        first_untag_met = False\n",
    "        for subfield in subfields:\n",
    "            prefix = ''\n",
    "            if verbose:\n",
    "                print('subfield:%s' % subfield)\n",
    "            #print('subfield splitted', subfield.split('='))\n",
    "            if '=' in subfield:\n",
    "                subsplits = subfield.split('=')\n",
    "                subfield=subsplits[1]\n",
    "                prefix = subsplits[0]+'='\n",
    "                if modele in MODELES_TROIS and prefix in ['ps=', 'pp=']:\n",
    "                    check_phonemes(subfield, verbose)\n",
    "                    subfield = subfield.replace(old_symbol, new_symbol)\n",
    "                    # take care leaving the loop for fr-accord-cons\n",
    "                \n",
    "            else:\n",
    "                if modele in MODELES_SIMPLES:\n",
    "                    check_phonemes(subfield, verbose)\n",
    "                    subfield = subfield.replace(old_symbol, new_symbol)\n",
    "                    # take care leaving the loop for fr-accord-cons\n",
    "                elif modele in MODELES_DOUBLES:\n",
    "                    if first_untag_met == False:\n",
    "                        first_untag_met = True\n",
    "                    else:\n",
    "                        check_phonemes(subfield, verbose)\n",
    "                        subfield = subfield.replace(old_symbol, new_symbol)\n",
    "            new_pron += prefix + subfield + '|'\n",
    "        \n",
    "        # remove last '|'\n",
    "        new_pron = new_pron[:-1]\n",
    "        if verbose:\n",
    "            print('new_pron:', new_pron)\n",
    "        \n",
    "        if new_pron != old_pron:\n",
    "            new_string = pron[0] + new_pron + pron[2]\n",
    "            print('replacing: %s\\nwith     : %s' % (old_string, new_string))    \n",
    "            text = text.replace(old_string, new_string)\n",
    "            nb_replacements += 1\n",
    "        else:\n",
    "            print('no need to replace: %s' % (old_string))    \n",
    "            \n",
    "\n",
    "    print('nb_replacements in model:%d', nb_replacements)\n",
    "    return text"
   ]
  },
  {
   "cell_type": "code",
   "execution_count": 11,
   "metadata": {},
   "outputs": [],
   "source": [
    "def process_words(words, old_symbol, new_symbol, commit=False, verbose=False):\n",
    "    \n",
    "    # trick to better identify the new moifications\n",
    "    if commit == False:\n",
    "        if not '*' in new_symbol:\n",
    "            new_symbol = '*' + new_symbol + '*'\n",
    "    \n",
    "    for word in words:\n",
    "        \n",
    "        page = pywikibot.Page(site, word)\n",
    "        if not page.exists():\n",
    "            print('page %s does not exists' % word)\n",
    "            continue\n",
    "        print('page=%s' % word)\n",
    "        #print(page.getVersionHistoryTable())\n",
    "        old_text = page.text\n",
    "        if verbose:\n",
    "            print('#########################')\n",
    "            #print('old page text:', old_text)\n",
    "            #print('#########################')\n",
    "            \n",
    "        if skip_word(old_symbol, page.text, word):\n",
    "            print()\n",
    "            continue\n",
    "        \n",
    "        \n",
    "        # Look for the pronunciation within the \"ligne de forme\"\n",
    "        pron_head = '{{pron'\n",
    "        pron_foot = 'fr}}'\n",
    "        regexp = '('+ pron_head + '\\|)'+ '([^\\|\\}]{1,})' + '(\\|'+pron_foot+')'\n",
    "        pronunciations = re.findall(regexp, page.text)\n",
    "        new_text = replace_pronunciations_in_ligne_de_forme(page.text, pronunciations, \n",
    "                                                            old_symbol, new_symbol, verbose)\n",
    "\n",
    "        page.text = new_text\n",
    "        \n",
    "        # Look for the 2nd pronunciation\n",
    "        pron_hd = '{{fr'\n",
    "        pron_ft = '}}'\n",
    "        regexp = '('+pron_hd + '.*?' + '\\|)'+ '([^\\}]{1,})' + '(' + pron_ft+')'\n",
    "        pronunciations = re.findall(regexp, page.text)\n",
    "        new_text = replace_pronunciations_in_model(page.text, pronunciations, \n",
    "                                                   old_symbol, new_symbol, verbose)\n",
    "        \n",
    "        if verbose:\n",
    "            foo = 1\n",
    "            #print('#########################')\n",
    "            #print('new page text:', new_text)\n",
    "            #print('#########################')\n",
    "            \n",
    "        if new_text != old_text:\n",
    "            # string to summarize the work done in the edit comment\n",
    "            summary = \"prononciation: remplacement de /\"+ old_symbol + \"/ par /\"+ new_symbol +\"/.\"\n",
    "            print('summary: ',summary)\n",
    "        \n",
    "            page.text = new_text\n",
    "            if commit:\n",
    "                if '*' in new_symbol:\n",
    "                    print('* in new_symbol %s, probably an error', new_symbol)\n",
    "                    break\n",
    "                print('committing')\n",
    "                page.save(summary=summary, botflag=True, quiet=False)\n",
    "                # sleep 10 seconds before jumping to the next word\n",
    "                time.sleep(10)\n",
    "        else:\n",
    "            print('no modification')\n",
    "            \n",
    "        print('')"
   ]
  },
  {
   "cell_type": "code",
   "execution_count": 13,
   "metadata": {
    "scrolled": false
   },
   "outputs": [
    {
     "name": "stdout",
     "output_type": "stream",
     "text": [
      "page=Aumont\n",
      "replacing : {{pron|o.mõ|fr}}\n",
      "with      : {{pron|o.mɔ̃|fr}}\n",
      "nb_replacements in ldf:%d 1\n",
      "replacing: {{fr-inv|o.mõ|inv_titre=Nom propre}}\n",
      "with     : {{fr-inv|o.mɔ̃|inv_titre=Nom propre}}\n",
      "nb_replacements in model:%d 1\n",
      "summary:  prononciation: remplacement de /õ/ par /ɔ̃/.\n",
      "committing\n"
     ]
    },
    {
     "name": "stderr",
     "output_type": "stream",
     "text": [
      "Page [[wiktionary:fr:Aumont]] saved\n"
     ]
    },
    {
     "name": "stdout",
     "output_type": "stream",
     "text": [
      "\n",
      "page=Avignon-lès-Saint-Claude\n",
      "replacing : {{pron|a.vi.ɲõ.lɛ.sɛ̃.klod|fr}}\n",
      "with      : {{pron|a.vi.ɲɔ̃.lɛ.sɛ̃.klod|fr}}\n",
      "nb_replacements in ldf:%d 1\n",
      "replacing: {{fr-inv|a.vi.ɲõ.lɛ.sɛ̃.klod|inv_titre=Nom propre}}\n",
      "with     : {{fr-inv|a.vi.ɲɔ̃.lɛ.sɛ̃.klod|inv_titre=Nom propre}}\n",
      "nb_replacements in model:%d 1\n",
      "summary:  prononciation: remplacement de /õ/ par /ɔ̃/.\n",
      "committing\n"
     ]
    },
    {
     "name": "stderr",
     "output_type": "stream",
     "text": [
      "Page [[wiktionary:fr:Avignon-lès-Saint-Claude]] saved\n"
     ]
    },
    {
     "name": "stdout",
     "output_type": "stream",
     "text": [
      "\n",
      "page=Caf’-Con’\n",
      "replacing : {{pron|kaf.kõ|fr}}\n",
      "with      : {{pron|kaf.kɔ̃|fr}}\n",
      "nb_replacements in ldf:%d 1\n",
      "replacing: {{fr-inv|kaf.kõ}}\n",
      "with     : {{fr-inv|kaf.kɔ̃}}\n",
      "nb_replacements in model:%d 1\n",
      "summary:  prononciation: remplacement de /õ/ par /ɔ̃/.\n",
      "committing\n"
     ]
    },
    {
     "name": "stderr",
     "output_type": "stream",
     "text": [
      "Page [[wiktionary:fr:Caf’-Con’]] saved\n"
     ]
    },
    {
     "name": "stdout",
     "output_type": "stream",
     "text": [
      "\n",
      "page=Léontine\n",
      "replacing : {{pron|le.õ.tin|fr}}\n",
      "with      : {{pron|le.ɔ̃.tin|fr}}\n",
      "replacing : {{pron|le.õ.tin|fr}}\n",
      "with      : {{pron|le.ɔ̃.tin|fr}}\n",
      "nb_replacements in ldf:%d 2\n",
      "replacing: {{fr-rég|le.õ.tin}}\n",
      "with     : {{fr-rég|le.ɔ̃.tin}}\n",
      "nb_replacements in model:%d 1\n",
      "summary:  prononciation: remplacement de /õ/ par /ɔ̃/.\n",
      "committing\n"
     ]
    },
    {
     "name": "stderr",
     "output_type": "stream",
     "text": [
      "Page [[wiktionary:fr:Léontine]] saved\n"
     ]
    },
    {
     "name": "stdout",
     "output_type": "stream",
     "text": [
      "\n",
      "page=Léontines\n",
      "replacing : {{pron|le.õ.tin|fr}}\n",
      "with      : {{pron|le.ɔ̃.tin|fr}}\n",
      "nb_replacements in ldf:%d 1\n",
      "replacing: {{fr-rég|le.õ.tin|s=Léontine}}\n",
      "with     : {{fr-rég|le.ɔ̃.tin|s=Léontine}}\n",
      "nb_replacements in model:%d 1\n",
      "summary:  prononciation: remplacement de /õ/ par /ɔ̃/.\n",
      "committing\n"
     ]
    },
    {
     "name": "stderr",
     "output_type": "stream",
     "text": [
      "Page [[wiktionary:fr:Léontines]] saved\n"
     ]
    },
    {
     "name": "stdout",
     "output_type": "stream",
     "text": [
      "\n",
      "page=Montagnac\n",
      "replacing : {{pron|mõtaɲak|fr}}\n",
      "with      : {{pron|mɔ̃taɲak|fr}}\n",
      "nb_replacements in ldf:%d 1\n",
      "replacing: {{fr-inv|mõtaɲak|inv_titre=Nom propre}}\n",
      "with     : {{fr-inv|mɔ̃taɲak|inv_titre=Nom propre}}\n",
      "nb_replacements in model:%d 1\n",
      "summary:  prononciation: remplacement de /õ/ par /ɔ̃/.\n",
      "committing\n"
     ]
    },
    {
     "name": "stderr",
     "output_type": "stream",
     "text": [
      "Page [[wiktionary:fr:Montagnac]] saved\n"
     ]
    },
    {
     "name": "stdout",
     "output_type": "stream",
     "text": [
      "\n",
      "page=Montmarlon\n",
      "replacing : {{pron|mõ.maʁ.lõ|fr}}\n",
      "with      : {{pron|mɔ̃.maʁ.lɔ̃|fr}}\n",
      "nb_replacements in ldf:%d 1\n",
      "replacing: {{fr-inv|mõ.maʁ.lõ|inv_titre=Nom propre}}\n",
      "with     : {{fr-inv|mɔ̃.maʁ.lɔ̃|inv_titre=Nom propre}}\n",
      "nb_replacements in model:%d 1\n",
      "summary:  prononciation: remplacement de /õ/ par /ɔ̃/.\n",
      "committing\n"
     ]
    },
    {
     "name": "stderr",
     "output_type": "stream",
     "text": [
      "Page [[wiktionary:fr:Montmarlon]] saved\n"
     ]
    },
    {
     "name": "stdout",
     "output_type": "stream",
     "text": [
      "\n",
      "page=Valparaiso\n",
      "replacing : {{pron|val.pa.ʁɛ.zo|fr}}\n",
      "with      : {{pron|val.pa.ʁɛ.zo|fr}}\n",
      "nb_replacements in ldf:%d 0\n",
      "no need to replace: {{fr-inv|val.pa.ʁɛ.zo|inv_titre=Nom propre}}\n",
      "nb_replacements in model:%d 0\n",
      "summary:  prononciation: remplacement de /õ/ par /ɔ̃/.\n",
      "no modification\n",
      "\n",
      "page=autocontradiction\n",
      "replacing : {{pron|o.to.kõ.tʁa.dik.sjɔ̃|fr}}\n",
      "with      : {{pron|o.to.kɔ̃.tʁa.dik.sjɔ̃|fr}}\n",
      "nb_replacements in ldf:%d 1\n",
      "replacing: {{fr-rég|o.to.kõ.tʁa.dik.sjɔ̃}}\n",
      "with     : {{fr-rég|o.to.kɔ̃.tʁa.dik.sjɔ̃}}\n",
      "nb_replacements in model:%d 1\n",
      "summary:  prononciation: remplacement de /õ/ par /ɔ̃/.\n",
      "committing\n"
     ]
    },
    {
     "name": "stderr",
     "output_type": "stream",
     "text": [
      "Page [[wiktionary:fr:autocontradiction]] saved\n"
     ]
    },
    {
     "name": "stdout",
     "output_type": "stream",
     "text": [
      "\n",
      "page=autocontradictions\n",
      "replacing : {{pron|o.to.kõ.tʁa.dik.sjɔ̃|fr}}\n",
      "with      : {{pron|o.to.kɔ̃.tʁa.dik.sjɔ̃|fr}}\n",
      "nb_replacements in ldf:%d 1\n",
      "replacing: {{fr-rég|o.to.kõ.tʁa.dik.sjɔ̃|s=autocontradiction}}\n",
      "with     : {{fr-rég|o.to.kɔ̃.tʁa.dik.sjɔ̃|s=autocontradiction}}\n",
      "nb_replacements in model:%d 1\n",
      "summary:  prononciation: remplacement de /õ/ par /ɔ̃/.\n",
      "committing\n"
     ]
    },
    {
     "name": "stderr",
     "output_type": "stream",
     "text": [
      "Page [[wiktionary:fr:autocontradictions]] saved\n"
     ]
    },
    {
     "name": "stdout",
     "output_type": "stream",
     "text": [
      "\n",
      "page=besson\n",
      "replacing : {{pron|bɛ.sõ|fr}}\n",
      "with      : {{pron|bɛ.sɔ̃|fr}}\n",
      "replacing : {{pron|bɛ.sɔ̃|fr}}\n",
      "with      : {{pron|bɛ.sɔ̃|fr}}\n",
      "replacing : {{pron|bɛ.sɔ̃|fr}}\n",
      "with      : {{pron|bɛ.sɔ̃|fr}}\n",
      "nb_replacements in ldf:%d 1\n",
      "no need to replace: {{fr-accord-on|bɛ.s}}\n",
      "no need to replace: {{fr-rég|bɛ.sɔ̃}}\n",
      "nb_replacements in model:%d 0\n",
      "summary:  prononciation: remplacement de /õ/ par /ɔ̃/.\n",
      "committing\n"
     ]
    },
    {
     "name": "stderr",
     "output_type": "stream",
     "text": [
      "Page [[wiktionary:fr:besson]] saved\n"
     ]
    },
    {
     "name": "stdout",
     "output_type": "stream",
     "text": [
      "\n",
      "page=casquette à pont\n",
      "replacing : {{pron|kas.kɛt a põ|fr}}\n",
      "with      : {{pron|kas.kɛt a pɔ̃|fr}}\n",
      "nb_replacements in ldf:%d 1\n",
      "replacing: {{fr-rég|kas.kɛt a põ|p=casquetttes à pont}}\n",
      "with     : {{fr-rég|kas.kɛt a pɔ̃|p=casquetttes à pont}}\n",
      "nb_replacements in model:%d 1\n",
      "summary:  prononciation: remplacement de /õ/ par /ɔ̃/.\n",
      "committing\n"
     ]
    },
    {
     "name": "stderr",
     "output_type": "stream",
     "text": [
      "Page [[wiktionary:fr:casquette à pont]] saved\n"
     ]
    },
    {
     "name": "stdout",
     "output_type": "stream",
     "text": [
      "\n",
      "page=casquetttes à pont\n",
      "replacing : {{pron|kas.kɛt a põ|fr}}\n",
      "with      : {{pron|kas.kɛt a pɔ̃|fr}}\n",
      "nb_replacements in ldf:%d 1\n",
      "replacing: {{fr-rég|kas.kɛt a põ|p=casquetttes à pont|s=casquette à pont}}\n",
      "with     : {{fr-rég|kas.kɛt a pɔ̃|p=casquetttes à pont|s=casquette à pont}}\n",
      "nb_replacements in model:%d 1\n",
      "summary:  prononciation: remplacement de /õ/ par /ɔ̃/.\n",
      "committing\n"
     ]
    },
    {
     "name": "stderr",
     "output_type": "stream",
     "text": [
      "Page [[wiktionary:fr:casquetttes à pont]] saved\n"
     ]
    },
    {
     "name": "stdout",
     "output_type": "stream",
     "text": [
      "\n",
      "page=charcher son pain\n",
      "replacing : {{pron|ʃaʁ.ʃe sõ pɜ̃|fr}}\n",
      "with      : {{pron|ʃaʁ.ʃe sɔ̃ pɜ̃|fr}}\n",
      "nb_replacements in ldf:%d 1\n",
      "nb_replacements in model:%d 0\n",
      "summary:  prononciation: remplacement de /õ/ par /ɔ̃/.\n",
      "committing\n"
     ]
    },
    {
     "name": "stderr",
     "output_type": "stream",
     "text": [
      "Page [[wiktionary:fr:charcher son pain]] saved\n"
     ]
    },
    {
     "name": "stdout",
     "output_type": "stream",
     "text": [
      "\n",
      "page=compte prorata\n",
      "replacing : {{pron|kõ.ptə pʁo.ʁa.ta|fr}}\n",
      "with      : {{pron|kɔ̃.ptə pʁo.ʁa.ta|fr}}\n",
      "nb_replacements in ldf:%d 1\n",
      "replacing: {{fr-rég|kõ.ptə pʁo.ʁa.ta|p=comptes proratas|p2=comptes prorata}}\n",
      "with     : {{fr-rég|kɔ̃.ptə pʁo.ʁa.ta|p=comptes proratas|p2=comptes prorata}}\n",
      "nb_replacements in model:%d 1\n",
      "summary:  prononciation: remplacement de /õ/ par /ɔ̃/.\n",
      "committing\n"
     ]
    },
    {
     "name": "stderr",
     "output_type": "stream",
     "text": [
      "Page [[wiktionary:fr:compte prorata]] saved\n"
     ]
    },
    {
     "name": "stdout",
     "output_type": "stream",
     "text": [
      "\n",
      "page=comptes proratas\n",
      "replacing : {{pron|kõ.ptə pʁo.ʁa.ta|fr}}\n",
      "with      : {{pron|kɔ̃.ptə pʁo.ʁa.ta|fr}}\n",
      "nb_replacements in ldf:%d 1\n",
      "replacing: {{fr-rég|kõ.ptə pʁo.ʁa.ta|s=compte prorata|p=comptes proratas}}\n",
      "with     : {{fr-rég|kɔ̃.ptə pʁo.ʁa.ta|s=compte prorata|p=comptes proratas}}\n",
      "nb_replacements in model:%d 1\n",
      "summary:  prononciation: remplacement de /õ/ par /ɔ̃/.\n",
      "committing\n"
     ]
    },
    {
     "name": "stderr",
     "output_type": "stream",
     "text": [
      "Page [[wiktionary:fr:comptes proratas]] saved\n"
     ]
    },
    {
     "name": "stdout",
     "output_type": "stream",
     "text": [
      "\n",
      "page=continuo\n",
      "replacing : {{pron|kõ.ti.nɥo|fr}}\n",
      "with      : {{pron|kɔ̃.ti.nɥo|fr}}\n",
      "nb_replacements in ldf:%d 1\n",
      "replacing: {{fr-rég|kõ.ti.nɥo}}\n",
      "with     : {{fr-rég|kɔ̃.ti.nɥo}}\n",
      "nb_replacements in model:%d 1\n",
      "summary:  prononciation: remplacement de /õ/ par /ɔ̃/.\n",
      "committing\n"
     ]
    },
    {
     "name": "stderr",
     "output_type": "stream",
     "text": [
      "Page [[wiktionary:fr:continuo]] saved\n"
     ]
    },
    {
     "name": "stdout",
     "output_type": "stream",
     "text": [
      "\n",
      "page=continuos\n",
      "replacing : {{pron|kõ.ti.nɥo|fr}}\n",
      "with      : {{pron|kɔ̃.ti.nɥo|fr}}\n",
      "nb_replacements in ldf:%d 1\n",
      "replacing: {{fr-rég|kõ.ti.nɥo|s=continuo}}\n",
      "with     : {{fr-rég|kɔ̃.ti.nɥo|s=continuo}}\n",
      "nb_replacements in model:%d 1\n",
      "summary:  prononciation: remplacement de /õ/ par /ɔ̃/.\n",
      "committing\n"
     ]
    },
    {
     "name": "stderr",
     "output_type": "stream",
     "text": [
      "Page [[wiktionary:fr:continuos]] saved\n"
     ]
    },
    {
     "name": "stdout",
     "output_type": "stream",
     "text": [
      "\n",
      "page=crayon à mine\n",
      "replacing : {{pron|kʁɛ.jõ a mɪn|fr}}\n",
      "with      : {{pron|kʁɛ.jɔ̃ a mɪn|fr}}\n",
      "replacing : {{pron|kʁɛ.jõ a mɪn|fr}}\n",
      "with      : {{pron|kʁɛ.jɔ̃ a mɪn|fr}}\n",
      "replacing : {{pron|kʁɛ.jɔ̃ a min|fr}}\n",
      "with      : {{pron|kʁɛ.jɔ̃ a min|fr}}\n",
      "replacing : {{pron|kʁe.jɔ̃ a min|fr}}\n",
      "with      : {{pron|kʁe.jɔ̃ a min|fr}}\n",
      "replacing : {{pron|kʁe.jɔ̃ a ˈmi.nə|fr}}\n",
      "with      : {{pron|kʁe.jɔ̃ a ˈmi.nə|fr}}\n",
      "nb_replacements in ldf:%d 2\n",
      "nb_replacements in model:%d 0\n",
      "summary:  prononciation: remplacement de /õ/ par /ɔ̃/.\n",
      "committing\n"
     ]
    },
    {
     "name": "stderr",
     "output_type": "stream",
     "text": [
      "Page [[wiktionary:fr:crayon à mine]] saved\n"
     ]
    },
    {
     "name": "stdout",
     "output_type": "stream",
     "text": [
      "\n",
      "page=de bon hait\n",
      "replacing : {{pron|də bõ ɛ|fr}}\n",
      "with      : {{pron|də bɔ̃ ɛ|fr}}\n",
      "nb_replacements in ldf:%d 1\n",
      "nb_replacements in model:%d 0\n",
      "summary:  prononciation: remplacement de /õ/ par /ɔ̃/.\n",
      "committing\n"
     ]
    },
    {
     "name": "stderr",
     "output_type": "stream",
     "text": [
      "Page [[wiktionary:fr:de bon hait]] saved\n"
     ]
    },
    {
     "name": "stdout",
     "output_type": "stream",
     "text": [
      "\n",
      "page=dombra\n",
      "replacing : {{pron|dõ.bʁɑ|fr}}\n",
      "with      : {{pron|dɔ̃.bʁɑ|fr}}\n",
      "nb_replacements in ldf:%d 1\n",
      "replacing: {{fr-rég|dõ.bʁɑ}}\n",
      "with     : {{fr-rég|dɔ̃.bʁɑ}}\n",
      "nb_replacements in model:%d 1\n",
      "summary:  prononciation: remplacement de /õ/ par /ɔ̃/.\n",
      "committing\n"
     ]
    },
    {
     "name": "stderr",
     "output_type": "stream",
     "text": [
      "Page [[wiktionary:fr:dombra]] saved\n"
     ]
    },
    {
     "name": "stdout",
     "output_type": "stream",
     "text": [
      "\n",
      "page=dombras\n",
      "replacing : {{pron|dõ.bʁɑ|fr}}\n",
      "with      : {{pron|dɔ̃.bʁɑ|fr}}\n",
      "nb_replacements in ldf:%d 1\n",
      "replacing: {{fr-rég|dõ.bʁɑ|s=dombra}}\n",
      "with     : {{fr-rég|dɔ̃.bʁɑ|s=dombra}}\n",
      "nb_replacements in model:%d 1\n",
      "summary:  prononciation: remplacement de /õ/ par /ɔ̃/.\n",
      "committing\n"
     ]
    },
    {
     "name": "stderr",
     "output_type": "stream",
     "text": [
      "Page [[wiktionary:fr:dombras]] saved\n"
     ]
    },
    {
     "name": "stdout",
     "output_type": "stream",
     "text": [
      "\n",
      "page=fantons\n",
      "replacing : {{pron|fã.tõ|fr}}\n",
      "with      : {{pron|fã.tɔ̃|fr}}\n",
      "nb_replacements in ldf:%d 1\n",
      "replacing: {{fr-rég|fã.tõ|s=fanton}}\n",
      "with     : {{fr-rég|fã.tɔ̃|s=fanton}}\n",
      "nb_replacements in model:%d 1\n",
      "summary:  prononciation: remplacement de /õ/ par /ɔ̃/.\n",
      "committing\n"
     ]
    },
    {
     "name": "stderr",
     "output_type": "stream",
     "text": [
      "Page [[wiktionary:fr:fantons]] saved\n"
     ]
    },
    {
     "name": "stdout",
     "output_type": "stream",
     "text": [
      "\n",
      "page=maisonne\n",
      "replacing : {{pron|mɛ.zɔn|fr}}\n",
      "with      : {{pron|mɛ.zɔn|fr}}\n",
      "replacing : {{pron|mɛ.zɔn|fr}}\n",
      "with      : {{pron|mɛ.zɔn|fr}}\n",
      "nb_replacements in ldf:%d 0\n",
      "no need to replace: {{fr-rég|mɛ.zɔn}}\n",
      "modele with no pronunciation:fr-verbe-flexion !!!\n",
      "summary:  prononciation: remplacement de /õ/ par /ɔ̃/.\n",
      "committing\n"
     ]
    },
    {
     "name": "stderr",
     "output_type": "stream",
     "text": [
      "Page [[wiktionary:fr:maisonne]] saved\n"
     ]
    },
    {
     "name": "stdout",
     "output_type": "stream",
     "text": [
      "\n",
      "page=mon Guieu faut-i\n",
      "replacing : {{pron|mõ gjø fot‿i|fr}}\n",
      "with      : {{pron|mɔ̃ gjø fot‿i|fr}}\n",
      "nb_replacements in ldf:%d 1\n",
      "nb_replacements in model:%d 0\n",
      "summary:  prononciation: remplacement de /õ/ par /ɔ̃/.\n",
      "committing\n"
     ]
    },
    {
     "name": "stderr",
     "output_type": "stream",
     "text": [
      "Page [[wiktionary:fr:mon Guieu faut-i]] saved\n"
     ]
    },
    {
     "name": "stdout",
     "output_type": "stream",
     "text": [
      "\n",
      "page=poiçon\n",
      "replacing : {{pron|pwa.sõ|fr}}\n",
      "with      : {{pron|pwa.sɔ̃|fr}}\n",
      "nb_replacements in ldf:%d 1\n",
      "replacing: {{fr-rég|pwa.sõ}}\n",
      "with     : {{fr-rég|pwa.sɔ̃}}\n",
      "nb_replacements in model:%d 1\n",
      "summary:  prononciation: remplacement de /õ/ par /ɔ̃/.\n",
      "committing\n"
     ]
    },
    {
     "name": "stderr",
     "output_type": "stream",
     "text": [
      "Page [[wiktionary:fr:poiçon]] saved\n"
     ]
    },
    {
     "name": "stdout",
     "output_type": "stream",
     "text": [
      "\n",
      "page=poiçons\n",
      "replacing : {{pron|pwa.sõ|fr}}\n",
      "with      : {{pron|pwa.sɔ̃|fr}}\n",
      "nb_replacements in ldf:%d 1\n",
      "replacing: {{fr-rég|pwa.sõ|s=poiçon}}\n",
      "with     : {{fr-rég|pwa.sɔ̃|s=poiçon}}\n",
      "nb_replacements in model:%d 1\n",
      "summary:  prononciation: remplacement de /õ/ par /ɔ̃/.\n",
      "committing\n"
     ]
    },
    {
     "name": "stderr",
     "output_type": "stream",
     "text": [
      "Page [[wiktionary:fr:poiçons]] saved\n"
     ]
    },
    {
     "name": "stdout",
     "output_type": "stream",
     "text": [
      "\n",
      "page=pomon\n",
      "replacing : {{pron|po.mõ|fr}}\n",
      "with      : {{pron|po.mɔ̃|fr}}\n",
      "nb_replacements in ldf:%d 1\n",
      "replacing: {{fr-rég|po.mõ|p=pomons}}\n",
      "with     : {{fr-rég|po.mɔ̃|p=pomons}}\n",
      "nb_replacements in model:%d 1\n",
      "summary:  prononciation: remplacement de /õ/ par /ɔ̃/.\n",
      "committing\n"
     ]
    },
    {
     "name": "stderr",
     "output_type": "stream",
     "text": [
      "Page [[wiktionary:fr:pomon]] saved\n"
     ]
    },
    {
     "name": "stdout",
     "output_type": "stream",
     "text": [
      "\n",
      "page=pomons\n",
      "replacing : {{pron|po.mõ|fr}}\n",
      "with      : {{pron|po.mɔ̃|fr}}\n",
      "nb_replacements in ldf:%d 1\n",
      "replacing: {{fr-rég|po.mõ|s=pomon}}\n",
      "with     : {{fr-rég|po.mɔ̃|s=pomon}}\n",
      "nb_replacements in model:%d 1\n",
      "summary:  prononciation: remplacement de /õ/ par /ɔ̃/.\n",
      "committing\n"
     ]
    },
    {
     "name": "stderr",
     "output_type": "stream",
     "text": [
      "Page [[wiktionary:fr:pomons]] saved\n"
     ]
    },
    {
     "name": "stdout",
     "output_type": "stream",
     "text": [
      "\n",
      "page=potron-jacquet\n",
      "replacing : {{pron|po.tʁõ ʒa.kɛ|fr}}\n",
      "with      : {{pron|po.tʁɔ̃ ʒa.kɛ|fr}}\n",
      "nb_replacements in ldf:%d 1\n",
      "nb_replacements in model:%d 0\n",
      "summary:  prononciation: remplacement de /õ/ par /ɔ̃/.\n",
      "committing\n"
     ]
    },
    {
     "name": "stderr",
     "output_type": "stream",
     "text": [
      "Page [[wiktionary:fr:potron-jacquet]] saved\n"
     ]
    },
    {
     "name": "stdout",
     "output_type": "stream",
     "text": [
      "\n",
      "page=quatrième dimension\n",
      "replacing : {{pron|ka.tʁi.jɛm di.mã.sjõ|fr}}\n",
      "with      : {{pron|ka.tʁi.jɛm di.mã.sjɔ̃|fr}}\n",
      "nb_replacements in ldf:%d 1\n",
      "nb_replacements in model:%d 0\n",
      "summary:  prononciation: remplacement de /õ/ par /ɔ̃/.\n",
      "committing\n"
     ]
    },
    {
     "name": "stderr",
     "output_type": "stream",
     "text": [
      "Page [[wiktionary:fr:quatrième dimension]] saved\n"
     ]
    },
    {
     "name": "stdout",
     "output_type": "stream",
     "text": [
      "\n",
      "page=rhombicuboctaèdre\n",
      "replacing : {{pron|ʁõ.bi.ku.bɔk.ta.ɛdr|fr}}\n",
      "with      : {{pron|ʁɔ̃.bi.ku.bɔk.ta.ɛdr|fr}}\n",
      "nb_replacements in ldf:%d 1\n",
      "nb_replacements in model:%d 0\n",
      "summary:  prononciation: remplacement de /õ/ par /ɔ̃/.\n",
      "committing\n"
     ]
    },
    {
     "name": "stderr",
     "output_type": "stream",
     "text": [
      "Page [[wiktionary:fr:rhombicuboctaèdre]] saved\n"
     ]
    },
    {
     "name": "stdout",
     "output_type": "stream",
     "text": [
      "\n",
      "page=rodonticide\n",
      "replacing : {{pron|ʁɔ.dõ.ti.sid|fr}}\n",
      "with      : {{pron|ʁɔ.dɔ̃.ti.sid|fr}}\n",
      "replacing : {{pron|ʁɔ.dõ.ti.sid|fr}}\n",
      "with      : {{pron|ʁɔ.dɔ̃.ti.sid|fr}}\n",
      "nb_replacements in ldf:%d 2\n",
      "replacing: {{fr-rég|ʁɔ.dõ.ti.sid|mf=1}}\n",
      "with     : {{fr-rég|ʁɔ.dɔ̃.ti.sid|mf=1}}\n",
      "replacing: {{fr-rég|ʁɔ.dõ.ti.sid}}\n",
      "with     : {{fr-rég|ʁɔ.dɔ̃.ti.sid}}\n",
      "nb_replacements in model:%d 2\n",
      "summary:  prononciation: remplacement de /õ/ par /ɔ̃/.\n",
      "committing\n"
     ]
    },
    {
     "name": "stderr",
     "output_type": "stream",
     "text": [
      "Page [[wiktionary:fr:rodonticide]] saved\n"
     ]
    },
    {
     "name": "stdout",
     "output_type": "stream",
     "text": [
      "\n",
      "page=rodonticides\n",
      "replacing : {{pron|ʁɔ.dõ.ti.sid|fr}}\n",
      "with      : {{pron|ʁɔ.dɔ̃.ti.sid|fr}}\n",
      "replacing : {{pron|ʁɔ.dõ.ti.sid|fr}}\n",
      "with      : {{pron|ʁɔ.dɔ̃.ti.sid|fr}}\n",
      "nb_replacements in ldf:%d 2\n",
      "replacing: {{fr-rég|ʁɔ.dõ.ti.sid|mf=oui|s=rodonticide}}\n",
      "with     : {{fr-rég|ʁɔ.dɔ̃.ti.sid|mf=oui|s=rodonticide}}\n",
      "replacing: {{fr-rég|ʁɔ.dõ.ti.sid|s=rodonticide}}\n",
      "with     : {{fr-rég|ʁɔ.dɔ̃.ti.sid|s=rodonticide}}\n",
      "nb_replacements in model:%d 2\n",
      "summary:  prononciation: remplacement de /õ/ par /ɔ̃/.\n",
      "committing\n"
     ]
    },
    {
     "name": "stderr",
     "output_type": "stream",
     "text": [
      "Page [[wiktionary:fr:rodonticides]] saved\n"
     ]
    },
    {
     "name": "stdout",
     "output_type": "stream",
     "text": [
      "\n",
      "page=rodontologie\n",
      "replacing : {{pron|ʁɔ.dõ.tɔ.lɔ.ʒi|fr}}\n",
      "with      : {{pron|ʁɔ.dɔ̃.tɔ.lɔ.ʒi|fr}}\n",
      "nb_replacements in ldf:%d 1\n",
      "replacing: {{fr-rég|ʁɔ.dõ.tɔ.lɔ.ʒi}}\n",
      "with     : {{fr-rég|ʁɔ.dɔ̃.tɔ.lɔ.ʒi}}\n",
      "nb_replacements in model:%d 1\n",
      "summary:  prononciation: remplacement de /õ/ par /ɔ̃/.\n",
      "committing\n"
     ]
    },
    {
     "name": "stderr",
     "output_type": "stream",
     "text": [
      "Page [[wiktionary:fr:rodontologie]] saved\n"
     ]
    },
    {
     "name": "stdout",
     "output_type": "stream",
     "text": [
      "\n",
      "page=rodontologies\n",
      "replacing : {{pron|ʁɔ.dõ.tɔ.lɔ.ʒi|fr}}\n",
      "with      : {{pron|ʁɔ.dɔ̃.tɔ.lɔ.ʒi|fr}}\n",
      "nb_replacements in ldf:%d 1\n",
      "replacing: {{fr-rég|ʁɔ.dõ.tɔ.lɔ.ʒi|s=rodontologie}}\n",
      "with     : {{fr-rég|ʁɔ.dɔ̃.tɔ.lɔ.ʒi|s=rodontologie}}\n",
      "nb_replacements in model:%d 1\n",
      "summary:  prononciation: remplacement de /õ/ par /ɔ̃/.\n",
      "committing\n"
     ]
    },
    {
     "name": "stderr",
     "output_type": "stream",
     "text": [
      "Page [[wiktionary:fr:rodontologies]] saved\n"
     ]
    },
    {
     "name": "stdout",
     "output_type": "stream",
     "text": [
      "\n",
      "page=rodontologique\n",
      "replacing : {{pron|ʁɔ.dõ.tɔ.lɔ.ʒik|fr}}\n",
      "with      : {{pron|ʁɔ.dɔ̃.tɔ.lɔ.ʒik|fr}}\n",
      "nb_replacements in ldf:%d 1\n",
      "replacing: {{fr-rég|mf=oui|ʁɔ.dõ.tɔ.lɔ.ʒik}}\n",
      "with     : {{fr-rég|mf=oui|ʁɔ.dɔ̃.tɔ.lɔ.ʒik}}\n",
      "nb_replacements in model:%d 1\n",
      "summary:  prononciation: remplacement de /õ/ par /ɔ̃/.\n",
      "committing\n"
     ]
    },
    {
     "name": "stderr",
     "output_type": "stream",
     "text": [
      "Page [[wiktionary:fr:rodontologique]] saved\n"
     ]
    },
    {
     "name": "stdout",
     "output_type": "stream",
     "text": [
      "\n",
      "page=rodontologiques\n",
      "replacing : {{pron|ʁɔ.dõ.tɔ.lɔ.ʒik|fr}}\n",
      "with      : {{pron|ʁɔ.dɔ̃.tɔ.lɔ.ʒik|fr}}\n",
      "nb_replacements in ldf:%d 1\n",
      "replacing: {{fr-rég|ʁɔ.dõ.tɔ.lɔ.ʒik|mf=oui|s=rodontologique}}\n",
      "with     : {{fr-rég|ʁɔ.dɔ̃.tɔ.lɔ.ʒik|mf=oui|s=rodontologique}}\n",
      "nb_replacements in model:%d 1\n",
      "summary:  prononciation: remplacement de /õ/ par /ɔ̃/.\n",
      "committing\n"
     ]
    },
    {
     "name": "stderr",
     "output_type": "stream",
     "text": [
      "Page [[wiktionary:fr:rodontologiques]] saved\n"
     ]
    },
    {
     "name": "stdout",
     "output_type": "stream",
     "text": [
      "\n",
      "page=ronflote\n",
      "replacing : {{pron|ʁõ.flɔt|fr}}\n",
      "with      : {{pron|ʁɔ̃.flɔt|fr}}\n",
      "nb_replacements in ldf:%d 1\n",
      "modele with no pronunciation:fr-verbe-flexion !!!\n",
      "summary:  prononciation: remplacement de /õ/ par /ɔ̃/.\n",
      "committing\n"
     ]
    },
    {
     "name": "stderr",
     "output_type": "stream",
     "text": [
      "Page [[wiktionary:fr:ronflote]] saved\n"
     ]
    },
    {
     "name": "stdout",
     "output_type": "stream",
     "text": [
      "\n",
      "page=sconses\n",
      "replacing : {{pron|skõs|fr}}\n",
      "with      : {{pron|skɔ̃s|fr}}\n",
      "nb_replacements in ldf:%d 1\n",
      "replacing: {{fr-rég|skõs|s=sconse|inv=|mf=}}\n",
      "with     : {{fr-rég|skɔ̃s|s=sconse|inv=|mf=}}\n",
      "nb_replacements in model:%d 1\n",
      "summary:  prononciation: remplacement de /õ/ par /ɔ̃/.\n",
      "committing\n"
     ]
    },
    {
     "name": "stderr",
     "output_type": "stream",
     "text": [
      "Page [[wiktionary:fr:sconses]] saved\n"
     ]
    },
    {
     "name": "stdout",
     "output_type": "stream",
     "text": [
      "\n",
      "page=sur l’ongle\n",
      "replacing : {{pron|syʁ l‿õɡl|fr}}\n",
      "with      : {{pron|syʁ l‿ɔ̃ɡl|fr}}\n",
      "nb_replacements in ldf:%d 1\n",
      "replacing: {{fr-inv|syʁ l‿õɡl|inv_titre=Adverbe}}\n",
      "with     : {{fr-inv|syʁ l‿ɔ̃ɡl|inv_titre=Adverbe}}\n",
      "nb_replacements in model:%d 1\n",
      "summary:  prononciation: remplacement de /õ/ par /ɔ̃/.\n",
      "committing\n"
     ]
    },
    {
     "name": "stderr",
     "output_type": "stream",
     "text": [
      "Page [[wiktionary:fr:sur l’ongle]] saved\n"
     ]
    },
    {
     "name": "stdout",
     "output_type": "stream",
     "text": [
      "\n",
      "page=union libre\n",
      "replacing : {{pron|y.njõ libʁ|fr}}\n",
      "with      : {{pron|y.njɔ̃ libʁ|fr}}\n",
      "nb_replacements in ldf:%d 1\n",
      "replacing: {{fr-rég|y.njõ libʁ|p=unions libres}}\n",
      "with     : {{fr-rég|y.njɔ̃ libʁ|p=unions libres}}\n",
      "nb_replacements in model:%d 1\n",
      "summary:  prononciation: remplacement de /õ/ par /ɔ̃/.\n",
      "committing\n"
     ]
    },
    {
     "name": "stderr",
     "output_type": "stream",
     "text": [
      "Page [[wiktionary:fr:union libre]] saved\n"
     ]
    },
    {
     "name": "stdout",
     "output_type": "stream",
     "text": [
      "\n",
      "page=volontourisme\n",
      "replacing : {{pron|vɔ.lõ.tu.ʁism|fr}}\n",
      "with      : {{pron|vɔ.lɔ̃.tu.ʁism|fr}}\n",
      "nb_replacements in ldf:%d 1\n",
      "replacing: {{fr-rég|vɔ.lõ.tu.ʁism}}\n",
      "with     : {{fr-rég|vɔ.lɔ̃.tu.ʁism}}\n",
      "nb_replacements in model:%d 1\n",
      "summary:  prononciation: remplacement de /õ/ par /ɔ̃/.\n",
      "committing\n"
     ]
    },
    {
     "name": "stderr",
     "output_type": "stream",
     "text": [
      "Page [[wiktionary:fr:volontourisme]] saved\n"
     ]
    },
    {
     "name": "stdout",
     "output_type": "stream",
     "text": [
      "\n",
      "page=volontourismes\n",
      "replacing : {{pron|vɔ.lõ.tu.ʁism|fr}}\n",
      "with      : {{pron|vɔ.lɔ̃.tu.ʁism|fr}}\n",
      "nb_replacements in ldf:%d 1\n",
      "replacing: {{fr-rég|vɔ.lõ.tu.ʁism|s=volontourisme}}\n",
      "with     : {{fr-rég|vɔ.lɔ̃.tu.ʁism|s=volontourisme}}\n",
      "nb_replacements in model:%d 1\n",
      "summary:  prononciation: remplacement de /õ/ par /ɔ̃/.\n",
      "committing\n"
     ]
    },
    {
     "name": "stderr",
     "output_type": "stream",
     "text": [
      "Page [[wiktionary:fr:volontourismes]] saved\n"
     ]
    },
    {
     "name": "stdout",
     "output_type": "stream",
     "text": [
      "\n"
     ]
    }
   ],
   "source": [
    "process_words(words, old_symbol, new_symbol, commit=True, verbose=False)"
   ]
  }
 ],
 "metadata": {
  "kernelspec": {
   "display_name": "Python 3",
   "language": "python",
   "name": "python3"
  },
  "language_info": {
   "codemirror_mode": {
    "name": "ipython",
    "version": 3
   },
   "file_extension": ".py",
   "mimetype": "text/x-python",
   "name": "python",
   "nbconvert_exporter": "python",
   "pygments_lexer": "ipython3",
   "version": "3.6.7"
  }
 },
 "nbformat": 4,
 "nbformat_minor": 2
}
