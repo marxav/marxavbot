{
 "cells": [
  {
   "cell_type": "code",
   "execution_count": 1,
   "metadata": {},
   "outputs": [],
   "source": [
    "import pywikibot\n",
    "import re"
   ]
  },
  {
   "cell_type": "code",
   "execution_count": 2,
   "metadata": {},
   "outputs": [
    {
     "name": "stdout",
     "output_type": "stream",
     "text": [
      "wiktionary:fr\n"
     ]
    }
   ],
   "source": [
    "site = pywikibot.Site('fr', 'wiktionary')\n",
    "print(site)"
   ]
  },
  {
   "cell_type": "code",
   "execution_count": 3,
   "metadata": {},
   "outputs": [],
   "source": [
    "# This parameter represents the character or set of consecutive characters \n",
    "# to be replaced\n",
    "old_symbol = 'g' # regular 'g' letter \n",
    "\n",
    "# This parameter represents the character or set of consecutive characters \n",
    "# that will replace the old_symbol\n",
    "new_symbol = 'ɡ' # voice velar stop (U+0261)\n",
    "\n",
    "VERBOSE = False    "
   ]
  },
  {
   "cell_type": "code",
   "execution_count": 4,
   "metadata": {},
   "outputs": [],
   "source": [
    "words = ['segmental']"
   ]
  },
  {
   "cell_type": "code",
   "execution_count": 5,
   "metadata": {},
   "outputs": [],
   "source": [
    "def replace_pronunciations(text, pronunciations, old_symbol, new_symbol, verbose=False):\n",
    "    nb_replacements = 0\n",
    "    for pron in pronunciations:\n",
    "        if verbose:\n",
    "            print('found:', pron)\n",
    "        old_string = pron[0] + pron[1] + pron[2]\n",
    "        pron_new = pron[1].replace(old_symbol, new_symbol)\n",
    "        new_string = pron[0] + pron_new + pron[2]\n",
    "        print('replacing %s with %s' % (old_string, new_string))    \n",
    "        text = text.replace(old_string, new_string)\n",
    "        nb_replacements += 1\n",
    "    print('nb_replacements:%d', nb_replacements)\n",
    "    return text"
   ]
  },
  {
   "cell_type": "code",
   "execution_count": 6,
   "metadata": {},
   "outputs": [],
   "source": [
    "def process_words(words, commit=False, verbose=False):\n",
    "    for word in words:\n",
    "        page = pywikibot.Page(site, word)\n",
    "        if not page.exists():\n",
    "            print('page %s does not exists' % word)\n",
    "            continue\n",
    "        print('page=%s' % word)\n",
    "        #print(page.getVersionHistoryTable())\n",
    "        page_text = page.text\n",
    "        if verbose:\n",
    "            print('#########################')\n",
    "            print('old page text:', page_text)\n",
    "            print('#########################')\n",
    "            \n",
    "        # Look for the pronunciation within the \"ligne de forme\"\n",
    "        pron_head = '{{pron'\n",
    "        pron_foot = 'fr}}'\n",
    "        pronunciations = re.findall('('+ pron_head + '\\|)'+ '([^\\|\\}]{1,})' + '(\\|'+pron_foot+')', page_text)\n",
    "        page_text = replace_pronunciations(page_text, pronunciations, old_symbol, new_symbol, verbose)\n",
    "\n",
    "        # Look for the 2nd pronunciation\n",
    "        pron_hd = '{{fr'\n",
    "        pron_ft = '}}'\n",
    "        pronunciations = re.findall('('+pron_hd + '[^\\}]{0,}' + '\\|)'+ '([^\\|\\}]{1,})' + '([^\\}]{0,}'+pron_ft+')', page_text)\n",
    "        page_text = replace_pronunciations(page_text, pronunciations, old_symbol, new_symbol, verbose)\n",
    "        \n",
    "        if verbose:\n",
    "            print('#########################')\n",
    "            print('new page text:', page_text)\n",
    "            print('#########################')\n",
    "            \n",
    "        # string to summarize the work done in the edit comment\n",
    "        summary = \"prononciation: remplacement de /\"+ old_symbol + \"/ par /\"+ new_symbol +\"/.\"\n",
    "        print(summary)\n",
    "        \n",
    "        page.text = page_text\n",
    "        if commit:\n",
    "            print('committing')\n",
    "            page.save(summary=summary, botflag=True, quiet=False)"
   ]
  },
  {
   "cell_type": "code",
   "execution_count": 7,
   "metadata": {},
   "outputs": [
    {
     "name": "stdout",
     "output_type": "stream",
     "text": [
      "page=segmental\n",
      "replacing {{pron|sɛg.mɑ̃.tal|fr}} with {{pron|sɛɡ.mɑ̃.tal|fr}}\n",
      "nb_replacements:%d 1\n",
      "replacing {{fr-accord-al|segment|sɛg.mɑ̃.t}} with {{fr-accord-al|segment|sɛɡ.mɑ̃.t}}\n",
      "nb_replacements:%d 1\n",
      "prononciation: remplacement de /g/ par /ɡ/.\n",
      "committing\n"
     ]
    },
    {
     "name": "stderr",
     "output_type": "stream",
     "text": [
      "Sleeping for 9.4 seconds, 2020-01-03 13:45:02\n",
      "Page [[segmental]] saved\n"
     ]
    }
   ],
   "source": [
    "process_words(words, commit=True, VERBOSE=False)"
   ]
  }
 ],
 "metadata": {
  "kernelspec": {
   "display_name": "Python 3",
   "language": "python",
   "name": "python3"
  },
  "language_info": {
   "codemirror_mode": {
    "name": "ipython",
    "version": 3
   },
   "file_extension": ".py",
   "mimetype": "text/x-python",
   "name": "python",
   "nbconvert_exporter": "python",
   "pygments_lexer": "ipython3",
   "version": "3.6.7"
  }
 },
 "nbformat": 4,
 "nbformat_minor": 2
}
